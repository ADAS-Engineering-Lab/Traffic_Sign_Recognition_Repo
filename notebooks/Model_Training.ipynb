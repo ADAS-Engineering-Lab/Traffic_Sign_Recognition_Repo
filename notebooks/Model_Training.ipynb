# Traffic Sign Recognition - CNN Model Training

This notebook performs CNN-based model training for Indian Traffic Sign Recognition.
It includes:
- Preprocessing images (resize, normalize)
- CNN model definition & training
- Model evaluation (accuracy, confusion matrix)
- Model saving & logging

The outputs are saved in:
- `models/` (Trained Model)
- `results/` (Evaluation Metrics)
- `notebooks/` (This Notebook)
