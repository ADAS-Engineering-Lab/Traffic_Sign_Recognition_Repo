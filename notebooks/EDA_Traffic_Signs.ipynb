# Traffic Sign Recognition - Exploratory Data Analysis (EDA)

This notebook performs Exploratory Data Analysis (EDA) on the Indian Traffic Sign Dataset.
It includes:
- Data verification
- Class distribution visualization
- Sample image display
- Dataset report generation

The outputs are saved in:
- `visualizations/` (Images & Graphs)
- `reports/` (Text Reports)
- `notebooks/` (This Notebook)
